{
 "metadata": {
  "language_info": {
   "codemirror_mode": {
    "name": "ipython",
    "version": 3
   },
   "file_extension": ".py",
   "mimetype": "text/x-python",
   "name": "python",
   "nbconvert_exporter": "python",
   "pygments_lexer": "ipython3",
   "version": "3.9.1"
  },
  "orig_nbformat": 2,
  "kernelspec": {
   "name": "python3",
   "display_name": "Python 3.9.1 64-bit"
  },
  "metadata": {
   "interpreter": {
    "hash": "020a76fce1c969b329c4baa36dcfa3a9e2b29d683bee2da19b07db39ad1b1031"
   }
  },
  "interpreter": {
   "hash": "020a76fce1c969b329c4baa36dcfa3a9e2b29d683bee2da19b07db39ad1b1031"
  }
 },
 "nbformat": 4,
 "nbformat_minor": 2,
 "cells": [
  {
   "cell_type": "code",
   "execution_count": 9,
   "metadata": {},
   "outputs": [],
   "source": [
    "# import all dependencies\n",
    "import pandas as pd\n",
    "pd.plotting.register_matplotlib_converters()\n",
    "import matplotlib.pyplot as plt\n",
    "%matplotlib inline\n",
    "import seaborn as sns"
   ]
  },
  {
   "cell_type": "code",
   "execution_count": 10,
   "metadata": {},
   "outputs": [],
   "source": [
    "# files\n",
    "# https://raw.githubusercontent.com/owid/covid-19-data/master/public/data/vaccinations/vaccinations.csv\n",
    "vaccination_csv = \"../data/vaccinations.csv\"\n",
    "# https://gist.githubusercontent.com/tadast/8827699/raw/f5cac3d42d16b78348610fc4ec301e9234f82821/countries_codes_and_coordinates.csv\n",
    "iso_csv = \"../data/countries_codes_and_coordinates.csv\"\n",
    "result_csv = \"../data/world_vaccination.csv\"\n",
    "\n",
    "# columns\n",
    "iso_column = 'iso_code'\n",
    "date_column = 'date'\n",
    "total_vaccinations_column = 'total_vaccinations'\n",
    "daily_vaccinations_raw_column = 'daily_vaccinations_raw'\n",
    "daily_vaccinations_column = 'daily_vaccinations'\n",
    "total_vaccinations_per_hundred_column = 'total_vaccinations_per_hundred'\n",
    "people_fully_vaccinated_per_hundred_column = 'people_fully_vaccinated_per_hundred'\n",
    "daily_vaccinations_per_million_column = 'daily_vaccinations_per_million'\n",
    "alpha_2 = 'Alpha-2 code'\n",
    "alpha_3 = 'Alpha-3 code'"
   ]
  },
  {
   "cell_type": "code",
   "execution_count": 11,
   "metadata": {},
   "outputs": [
    {
     "output_type": "execute_result",
     "data": {
      "text/plain": [
       "      location iso_code        date  total_vaccinations  people_vaccinated  \\\n",
       "0  Afghanistan      AFG  2021-02-22                 0.0                0.0   \n",
       "1  Afghanistan      AFG  2021-02-23                 NaN                NaN   \n",
       "2  Afghanistan      AFG  2021-02-24                 NaN                NaN   \n",
       "3  Afghanistan      AFG  2021-02-25                 NaN                NaN   \n",
       "4  Afghanistan      AFG  2021-02-26                 NaN                NaN   \n",
       "\n",
       "   people_fully_vaccinated  daily_vaccinations_raw  daily_vaccinations  \\\n",
       "0                      NaN                     NaN                 NaN   \n",
       "1                      NaN                     NaN              1367.0   \n",
       "2                      NaN                     NaN              1367.0   \n",
       "3                      NaN                     NaN              1367.0   \n",
       "4                      NaN                     NaN              1367.0   \n",
       "\n",
       "   total_vaccinations_per_hundred  people_vaccinated_per_hundred  \\\n",
       "0                             0.0                            0.0   \n",
       "1                             NaN                            NaN   \n",
       "2                             NaN                            NaN   \n",
       "3                             NaN                            NaN   \n",
       "4                             NaN                            NaN   \n",
       "\n",
       "   people_fully_vaccinated_per_hundred  daily_vaccinations_per_million  \n",
       "0                                  NaN                             NaN  \n",
       "1                                  NaN                            35.0  \n",
       "2                                  NaN                            35.0  \n",
       "3                                  NaN                            35.0  \n",
       "4                                  NaN                            35.0  "
      ],
      "text/html": "<div>\n<style scoped>\n    .dataframe tbody tr th:only-of-type {\n        vertical-align: middle;\n    }\n\n    .dataframe tbody tr th {\n        vertical-align: top;\n    }\n\n    .dataframe thead th {\n        text-align: right;\n    }\n</style>\n<table border=\"1\" class=\"dataframe\">\n  <thead>\n    <tr style=\"text-align: right;\">\n      <th></th>\n      <th>location</th>\n      <th>iso_code</th>\n      <th>date</th>\n      <th>total_vaccinations</th>\n      <th>people_vaccinated</th>\n      <th>people_fully_vaccinated</th>\n      <th>daily_vaccinations_raw</th>\n      <th>daily_vaccinations</th>\n      <th>total_vaccinations_per_hundred</th>\n      <th>people_vaccinated_per_hundred</th>\n      <th>people_fully_vaccinated_per_hundred</th>\n      <th>daily_vaccinations_per_million</th>\n    </tr>\n  </thead>\n  <tbody>\n    <tr>\n      <th>0</th>\n      <td>Afghanistan</td>\n      <td>AFG</td>\n      <td>2021-02-22</td>\n      <td>0.0</td>\n      <td>0.0</td>\n      <td>NaN</td>\n      <td>NaN</td>\n      <td>NaN</td>\n      <td>0.0</td>\n      <td>0.0</td>\n      <td>NaN</td>\n      <td>NaN</td>\n    </tr>\n    <tr>\n      <th>1</th>\n      <td>Afghanistan</td>\n      <td>AFG</td>\n      <td>2021-02-23</td>\n      <td>NaN</td>\n      <td>NaN</td>\n      <td>NaN</td>\n      <td>NaN</td>\n      <td>1367.0</td>\n      <td>NaN</td>\n      <td>NaN</td>\n      <td>NaN</td>\n      <td>35.0</td>\n    </tr>\n    <tr>\n      <th>2</th>\n      <td>Afghanistan</td>\n      <td>AFG</td>\n      <td>2021-02-24</td>\n      <td>NaN</td>\n      <td>NaN</td>\n      <td>NaN</td>\n      <td>NaN</td>\n      <td>1367.0</td>\n      <td>NaN</td>\n      <td>NaN</td>\n      <td>NaN</td>\n      <td>35.0</td>\n    </tr>\n    <tr>\n      <th>3</th>\n      <td>Afghanistan</td>\n      <td>AFG</td>\n      <td>2021-02-25</td>\n      <td>NaN</td>\n      <td>NaN</td>\n      <td>NaN</td>\n      <td>NaN</td>\n      <td>1367.0</td>\n      <td>NaN</td>\n      <td>NaN</td>\n      <td>NaN</td>\n      <td>35.0</td>\n    </tr>\n    <tr>\n      <th>4</th>\n      <td>Afghanistan</td>\n      <td>AFG</td>\n      <td>2021-02-26</td>\n      <td>NaN</td>\n      <td>NaN</td>\n      <td>NaN</td>\n      <td>NaN</td>\n      <td>1367.0</td>\n      <td>NaN</td>\n      <td>NaN</td>\n      <td>NaN</td>\n      <td>35.0</td>\n    </tr>\n  </tbody>\n</table>\n</div>"
     },
     "metadata": {},
     "execution_count": 11
    }
   ],
   "source": [
    "# read file in dataframe\n",
    "vac_dat = pd.read_csv(vaccination_csv)\n",
    "vac_dat.head()"
   ]
  },
  {
   "cell_type": "code",
   "execution_count": 12,
   "metadata": {},
   "outputs": [
    {
     "output_type": "execute_result",
     "data": {
      "text/plain": [
       "        location  iso_code        date  total_vaccinations  people_vaccinated  \\\n",
       "106  Afghanistan       AFG  2021-06-08            641295.0           482952.0   \n",
       "261       Africa  OWID_AFR  2021-06-12          41331826.0         29589013.0   \n",
       "414      Albania       ALB  2021-06-11            830281.0           501735.0   \n",
       "543      Algeria       DZA  2021-06-06           2500000.0          2500000.0   \n",
       "677      Andorra       AND  2021-06-07             41473.0            30535.0   \n",
       "\n",
       "     people_fully_vaccinated  daily_vaccinations_raw  daily_vaccinations  \\\n",
       "106                 158343.0                     NaN              3388.0   \n",
       "261               11057834.0                125596.0            868632.0   \n",
       "414                 328546.0                  7228.0              5599.0   \n",
       "543                      NaN                     NaN             22664.0   \n",
       "677                  10938.0                     NaN               794.0   \n",
       "\n",
       "     total_vaccinations_per_hundred  people_vaccinated_per_hundred  \\\n",
       "106                            1.65                           1.24   \n",
       "261                            3.08                           2.21   \n",
       "414                           28.85                          17.43   \n",
       "543                            5.70                           5.70   \n",
       "677                           53.68                          39.52   \n",
       "\n",
       "     people_fully_vaccinated_per_hundred  daily_vaccinations_per_million  \n",
       "106                                 0.41                            87.0  \n",
       "261                                 0.82                           648.0  \n",
       "414                                11.42                          1946.0  \n",
       "543                                  NaN                           517.0  \n",
       "677                                14.16                         10276.0  "
      ],
      "text/html": "<div>\n<style scoped>\n    .dataframe tbody tr th:only-of-type {\n        vertical-align: middle;\n    }\n\n    .dataframe tbody tr th {\n        vertical-align: top;\n    }\n\n    .dataframe thead th {\n        text-align: right;\n    }\n</style>\n<table border=\"1\" class=\"dataframe\">\n  <thead>\n    <tr style=\"text-align: right;\">\n      <th></th>\n      <th>location</th>\n      <th>iso_code</th>\n      <th>date</th>\n      <th>total_vaccinations</th>\n      <th>people_vaccinated</th>\n      <th>people_fully_vaccinated</th>\n      <th>daily_vaccinations_raw</th>\n      <th>daily_vaccinations</th>\n      <th>total_vaccinations_per_hundred</th>\n      <th>people_vaccinated_per_hundred</th>\n      <th>people_fully_vaccinated_per_hundred</th>\n      <th>daily_vaccinations_per_million</th>\n    </tr>\n  </thead>\n  <tbody>\n    <tr>\n      <th>106</th>\n      <td>Afghanistan</td>\n      <td>AFG</td>\n      <td>2021-06-08</td>\n      <td>641295.0</td>\n      <td>482952.0</td>\n      <td>158343.0</td>\n      <td>NaN</td>\n      <td>3388.0</td>\n      <td>1.65</td>\n      <td>1.24</td>\n      <td>0.41</td>\n      <td>87.0</td>\n    </tr>\n    <tr>\n      <th>261</th>\n      <td>Africa</td>\n      <td>OWID_AFR</td>\n      <td>2021-06-12</td>\n      <td>41331826.0</td>\n      <td>29589013.0</td>\n      <td>11057834.0</td>\n      <td>125596.0</td>\n      <td>868632.0</td>\n      <td>3.08</td>\n      <td>2.21</td>\n      <td>0.82</td>\n      <td>648.0</td>\n    </tr>\n    <tr>\n      <th>414</th>\n      <td>Albania</td>\n      <td>ALB</td>\n      <td>2021-06-11</td>\n      <td>830281.0</td>\n      <td>501735.0</td>\n      <td>328546.0</td>\n      <td>7228.0</td>\n      <td>5599.0</td>\n      <td>28.85</td>\n      <td>17.43</td>\n      <td>11.42</td>\n      <td>1946.0</td>\n    </tr>\n    <tr>\n      <th>543</th>\n      <td>Algeria</td>\n      <td>DZA</td>\n      <td>2021-06-06</td>\n      <td>2500000.0</td>\n      <td>2500000.0</td>\n      <td>NaN</td>\n      <td>NaN</td>\n      <td>22664.0</td>\n      <td>5.70</td>\n      <td>5.70</td>\n      <td>NaN</td>\n      <td>517.0</td>\n    </tr>\n    <tr>\n      <th>677</th>\n      <td>Andorra</td>\n      <td>AND</td>\n      <td>2021-06-07</td>\n      <td>41473.0</td>\n      <td>30535.0</td>\n      <td>10938.0</td>\n      <td>NaN</td>\n      <td>794.0</td>\n      <td>53.68</td>\n      <td>39.52</td>\n      <td>14.16</td>\n      <td>10276.0</td>\n    </tr>\n  </tbody>\n</table>\n</div>"
     },
     "metadata": {},
     "execution_count": 12
    }
   ],
   "source": [
    "# only keep latest data per country\n",
    "vac_dat = vac_dat[vac_dat.groupby(iso_column)[date_column].transform('max') == vac_dat[date_column]]\n",
    "vac_dat.head()"
   ]
  },
  {
   "cell_type": "code",
   "execution_count": 13,
   "metadata": {
    "tags": []
   },
   "outputs": [
    {
     "output_type": "execute_result",
     "data": {
      "text/plain": [
       "        location  iso_code        date  total_vaccinations  people_vaccinated  \\\n",
       "106  Afghanistan        af  2021-06-08            641295.0           482952.0   \n",
       "261       Africa  OWID_AFR  2021-06-12          41331826.0         29589013.0   \n",
       "414      Albania        al  2021-06-11            830281.0           501735.0   \n",
       "543      Algeria        dz  2021-06-06           2500000.0          2500000.0   \n",
       "677      Andorra        ad  2021-06-07             41473.0            30535.0   \n",
       "\n",
       "     people_fully_vaccinated  daily_vaccinations_raw  daily_vaccinations  \\\n",
       "106                 158343.0                     NaN              3388.0   \n",
       "261               11057834.0                125596.0            868632.0   \n",
       "414                 328546.0                  7228.0              5599.0   \n",
       "543                      NaN                     NaN             22664.0   \n",
       "677                  10938.0                     NaN               794.0   \n",
       "\n",
       "     total_vaccinations_per_hundred  people_vaccinated_per_hundred  \\\n",
       "106                            1.65                           1.24   \n",
       "261                            3.08                           2.21   \n",
       "414                           28.85                          17.43   \n",
       "543                            5.70                           5.70   \n",
       "677                           53.68                          39.52   \n",
       "\n",
       "     people_fully_vaccinated_per_hundred  daily_vaccinations_per_million  \n",
       "106                                 0.41                            87.0  \n",
       "261                                 0.82                           648.0  \n",
       "414                                11.42                          1946.0  \n",
       "543                                  NaN                           517.0  \n",
       "677                                14.16                         10276.0  "
      ],
      "text/html": "<div>\n<style scoped>\n    .dataframe tbody tr th:only-of-type {\n        vertical-align: middle;\n    }\n\n    .dataframe tbody tr th {\n        vertical-align: top;\n    }\n\n    .dataframe thead th {\n        text-align: right;\n    }\n</style>\n<table border=\"1\" class=\"dataframe\">\n  <thead>\n    <tr style=\"text-align: right;\">\n      <th></th>\n      <th>location</th>\n      <th>iso_code</th>\n      <th>date</th>\n      <th>total_vaccinations</th>\n      <th>people_vaccinated</th>\n      <th>people_fully_vaccinated</th>\n      <th>daily_vaccinations_raw</th>\n      <th>daily_vaccinations</th>\n      <th>total_vaccinations_per_hundred</th>\n      <th>people_vaccinated_per_hundred</th>\n      <th>people_fully_vaccinated_per_hundred</th>\n      <th>daily_vaccinations_per_million</th>\n    </tr>\n  </thead>\n  <tbody>\n    <tr>\n      <th>106</th>\n      <td>Afghanistan</td>\n      <td>af</td>\n      <td>2021-06-08</td>\n      <td>641295.0</td>\n      <td>482952.0</td>\n      <td>158343.0</td>\n      <td>NaN</td>\n      <td>3388.0</td>\n      <td>1.65</td>\n      <td>1.24</td>\n      <td>0.41</td>\n      <td>87.0</td>\n    </tr>\n    <tr>\n      <th>261</th>\n      <td>Africa</td>\n      <td>OWID_AFR</td>\n      <td>2021-06-12</td>\n      <td>41331826.0</td>\n      <td>29589013.0</td>\n      <td>11057834.0</td>\n      <td>125596.0</td>\n      <td>868632.0</td>\n      <td>3.08</td>\n      <td>2.21</td>\n      <td>0.82</td>\n      <td>648.0</td>\n    </tr>\n    <tr>\n      <th>414</th>\n      <td>Albania</td>\n      <td>al</td>\n      <td>2021-06-11</td>\n      <td>830281.0</td>\n      <td>501735.0</td>\n      <td>328546.0</td>\n      <td>7228.0</td>\n      <td>5599.0</td>\n      <td>28.85</td>\n      <td>17.43</td>\n      <td>11.42</td>\n      <td>1946.0</td>\n    </tr>\n    <tr>\n      <th>543</th>\n      <td>Algeria</td>\n      <td>dz</td>\n      <td>2021-06-06</td>\n      <td>2500000.0</td>\n      <td>2500000.0</td>\n      <td>NaN</td>\n      <td>NaN</td>\n      <td>22664.0</td>\n      <td>5.70</td>\n      <td>5.70</td>\n      <td>NaN</td>\n      <td>517.0</td>\n    </tr>\n    <tr>\n      <th>677</th>\n      <td>Andorra</td>\n      <td>ad</td>\n      <td>2021-06-07</td>\n      <td>41473.0</td>\n      <td>30535.0</td>\n      <td>10938.0</td>\n      <td>NaN</td>\n      <td>794.0</td>\n      <td>53.68</td>\n      <td>39.52</td>\n      <td>14.16</td>\n      <td>10276.0</td>\n    </tr>\n  </tbody>\n</table>\n</div>"
     },
     "metadata": {},
     "execution_count": 13
    }
   ],
   "source": [
    "# change iso code 3 to 2\n",
    "iso_dat = pd.read_csv(iso_csv)\n",
    "for (i,iso_3) in vac_dat[iso_column].iteritems():\n",
    "    for (j, iso_3_src) in iso_dat[alpha_3].iteritems():\n",
    "        if (iso_3_src.strip(' \"\\'\\t\\r\\n') == iso_3):\n",
    "            iso_2 = iso_dat.at[j, alpha_2].strip(' \"\\'\\t\\r\\n').lower()\n",
    "            vac_dat.at[i, iso_column] = iso_2\n",
    "            break\n",
    "vac_dat.head()"
   ]
  },
  {
   "cell_type": "code",
   "execution_count": 14,
   "metadata": {},
   "outputs": [
    {
     "output_type": "execute_result",
     "data": {
      "text/plain": [
       "        location  iso_code  people_vaccinated  people_fully_vaccinated  \\\n",
       "106  Afghanistan        af           482952.0                 158343.0   \n",
       "261       Africa  OWID_AFR         29589013.0               11057834.0   \n",
       "414      Albania        al           501735.0                 328546.0   \n",
       "543      Algeria        dz          2500000.0                      NaN   \n",
       "677      Andorra        ad            30535.0                  10938.0   \n",
       "\n",
       "     people_vaccinated_per_hundred  \n",
       "106                           1.24  \n",
       "261                           2.21  \n",
       "414                          17.43  \n",
       "543                           5.70  \n",
       "677                          39.52  "
      ],
      "text/html": "<div>\n<style scoped>\n    .dataframe tbody tr th:only-of-type {\n        vertical-align: middle;\n    }\n\n    .dataframe tbody tr th {\n        vertical-align: top;\n    }\n\n    .dataframe thead th {\n        text-align: right;\n    }\n</style>\n<table border=\"1\" class=\"dataframe\">\n  <thead>\n    <tr style=\"text-align: right;\">\n      <th></th>\n      <th>location</th>\n      <th>iso_code</th>\n      <th>people_vaccinated</th>\n      <th>people_fully_vaccinated</th>\n      <th>people_vaccinated_per_hundred</th>\n    </tr>\n  </thead>\n  <tbody>\n    <tr>\n      <th>106</th>\n      <td>Afghanistan</td>\n      <td>af</td>\n      <td>482952.0</td>\n      <td>158343.0</td>\n      <td>1.24</td>\n    </tr>\n    <tr>\n      <th>261</th>\n      <td>Africa</td>\n      <td>OWID_AFR</td>\n      <td>29589013.0</td>\n      <td>11057834.0</td>\n      <td>2.21</td>\n    </tr>\n    <tr>\n      <th>414</th>\n      <td>Albania</td>\n      <td>al</td>\n      <td>501735.0</td>\n      <td>328546.0</td>\n      <td>17.43</td>\n    </tr>\n    <tr>\n      <th>543</th>\n      <td>Algeria</td>\n      <td>dz</td>\n      <td>2500000.0</td>\n      <td>NaN</td>\n      <td>5.70</td>\n    </tr>\n    <tr>\n      <th>677</th>\n      <td>Andorra</td>\n      <td>ad</td>\n      <td>30535.0</td>\n      <td>10938.0</td>\n      <td>39.52</td>\n    </tr>\n  </tbody>\n</table>\n</div>"
     },
     "metadata": {},
     "execution_count": 14
    }
   ],
   "source": [
    "# just keep important data\n",
    "vac_dat.drop([\n",
    "    date_column,\n",
    "    total_vaccinations_column,\n",
    "    daily_vaccinations_raw_column,\n",
    "    daily_vaccinations_column,\n",
    "    total_vaccinations_per_hundred_column,\n",
    "    people_fully_vaccinated_per_hundred_column,\n",
    "    daily_vaccinations_per_million_column],\n",
    "    axis=1, inplace=True)\n",
    "vac_dat.head()"
   ]
  },
  {
   "cell_type": "code",
   "execution_count": 15,
   "metadata": {},
   "outputs": [],
   "source": [
    "# set iso column as csv index\n",
    "vac_dat.set_index(iso_column, inplace=True)"
   ]
  },
  {
   "cell_type": "code",
   "execution_count": 16,
   "metadata": {},
   "outputs": [],
   "source": [
    "# create csv file from dataframe\n",
    "vac_dat.to_csv(result_csv)"
   ]
  }
 ]
}